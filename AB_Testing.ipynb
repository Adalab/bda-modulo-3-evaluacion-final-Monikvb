{
 "cells": [
  {
   "cell_type": "markdown",
   "metadata": {},
   "source": [
    "# `Fase #3 --> A/B Testing`"
   ]
  },
  {
   "cell_type": "markdown",
   "metadata": {},
   "source": [
    "#### Evaluación de Diferencias en Reservas de Vuelos por Nivel Educativo"
   ]
  },
  {
   "cell_type": "markdown",
   "metadata": {},
   "source": [
    "> 📌 En esta fase se busca evaluar si existen diferencias significativas en el número de vuelos reservados según el nivel educativo de los clientes."
   ]
  },
  {
   "cell_type": "code",
   "execution_count": 1,
   "metadata": {},
   "outputs": [],
   "source": [
    "\n",
    "# importamos las librerías que necesitamos\n",
    "\n",
    "# Tratamiento de datos\n",
    "# -----------------------------------------------------------------------\n",
    "import pandas as pd\n",
    "import numpy as np\n",
    "\n",
    "# Visualización\n",
    "# ------------------------------------------------------------------------------\n",
    "import matplotlib.pyplot as plt\n",
    "import seaborn as sns\n",
    "\n",
    "# Evaluar linealidad de las relaciones entre las variables\n",
    "# y la distribución de las variables\n",
    "# ------------------------------------------------------------------------------\n",
    "import scipy.stats as stats\n",
    "from scipy.stats import chi2_contingency, ttest_ind\n",
    "\n",
    "# Configuración\n",
    "# -----------------------------------------------------------------------\n",
    "pd.set_option('display.max_columns', None) # para poder visualizar todas las columnas de los DataFrames\n",
    "\n",
    "# Gestión de los warnings\n",
    "# -----------------------------------------------------------------------\n",
    "import warnings\n",
    "warnings.filterwarnings(\"ignore\")"
   ]
  },
  {
   "cell_type": "code",
   "execution_count": 2,
   "metadata": {},
   "outputs": [
    {
     "data": {
      "text/html": [
       "<div>\n",
       "<style scoped>\n",
       "    .dataframe tbody tr th:only-of-type {\n",
       "        vertical-align: middle;\n",
       "    }\n",
       "\n",
       "    .dataframe tbody tr th {\n",
       "        vertical-align: top;\n",
       "    }\n",
       "\n",
       "    .dataframe thead th {\n",
       "        text-align: right;\n",
       "    }\n",
       "</style>\n",
       "<table border=\"1\" class=\"dataframe\">\n",
       "  <thead>\n",
       "    <tr style=\"text-align: right;\">\n",
       "      <th></th>\n",
       "      <th>Loyalty_Number</th>\n",
       "      <th>Year</th>\n",
       "      <th>Month</th>\n",
       "      <th>Flights_Booked</th>\n",
       "      <th>Flights_with_Companions</th>\n",
       "      <th>Total_Flights</th>\n",
       "      <th>Distance</th>\n",
       "      <th>Points_Accumulated</th>\n",
       "      <th>Points_Redeemed</th>\n",
       "      <th>Dollar_Cost_Points_Redeemed</th>\n",
       "      <th>Country</th>\n",
       "      <th>Province</th>\n",
       "      <th>City</th>\n",
       "      <th>Postal_Code</th>\n",
       "      <th>Gender</th>\n",
       "      <th>Education</th>\n",
       "      <th>Salary</th>\n",
       "      <th>Marital_Status</th>\n",
       "      <th>Loyalty_Card</th>\n",
       "      <th>CLV</th>\n",
       "      <th>Enrollment_Type</th>\n",
       "      <th>Enrollment_Year</th>\n",
       "      <th>Enrollment_Month</th>\n",
       "    </tr>\n",
       "  </thead>\n",
       "  <tbody>\n",
       "    <tr>\n",
       "      <th>208247</th>\n",
       "      <td>446662</td>\n",
       "      <td>2018</td>\n",
       "      <td>January</td>\n",
       "      <td>0</td>\n",
       "      <td>0</td>\n",
       "      <td>0</td>\n",
       "      <td>0</td>\n",
       "      <td>0.0</td>\n",
       "      <td>0</td>\n",
       "      <td>0</td>\n",
       "      <td>Canada</td>\n",
       "      <td>British Columbia</td>\n",
       "      <td>Victoria</td>\n",
       "      <td>V10 6T5</td>\n",
       "      <td>Female</td>\n",
       "      <td>College</td>\n",
       "      <td>73479.0</td>\n",
       "      <td>Married</td>\n",
       "      <td>Nova</td>\n",
       "      <td>7046.48</td>\n",
       "      <td>Standard</td>\n",
       "      <td>2018</td>\n",
       "      <td>11</td>\n",
       "    </tr>\n",
       "    <tr>\n",
       "      <th>151320</th>\n",
       "      <td>106046</td>\n",
       "      <td>2017</td>\n",
       "      <td>November</td>\n",
       "      <td>10</td>\n",
       "      <td>3</td>\n",
       "      <td>13</td>\n",
       "      <td>2145</td>\n",
       "      <td>214.0</td>\n",
       "      <td>327</td>\n",
       "      <td>27</td>\n",
       "      <td>Canada</td>\n",
       "      <td>Quebec</td>\n",
       "      <td>Montreal</td>\n",
       "      <td>H2T 9K8</td>\n",
       "      <td>Male</td>\n",
       "      <td>Bachelor</td>\n",
       "      <td>16628.0</td>\n",
       "      <td>Single</td>\n",
       "      <td>Star</td>\n",
       "      <td>2658.22</td>\n",
       "      <td>2018 Promotion</td>\n",
       "      <td>2018</td>\n",
       "      <td>4</td>\n",
       "    </tr>\n",
       "    <tr>\n",
       "      <th>21486</th>\n",
       "      <td>352092</td>\n",
       "      <td>2017</td>\n",
       "      <td>February</td>\n",
       "      <td>1</td>\n",
       "      <td>1</td>\n",
       "      <td>2</td>\n",
       "      <td>2706</td>\n",
       "      <td>270.0</td>\n",
       "      <td>0</td>\n",
       "      <td>0</td>\n",
       "      <td>Canada</td>\n",
       "      <td>Quebec</td>\n",
       "      <td>Montreal</td>\n",
       "      <td>H4G 3T4</td>\n",
       "      <td>Male</td>\n",
       "      <td>Bachelor</td>\n",
       "      <td>94459.0</td>\n",
       "      <td>Married</td>\n",
       "      <td>Aurora</td>\n",
       "      <td>8096.31</td>\n",
       "      <td>Standard</td>\n",
       "      <td>2017</td>\n",
       "      <td>5</td>\n",
       "    </tr>\n",
       "    <tr>\n",
       "      <th>351803</th>\n",
       "      <td>923761</td>\n",
       "      <td>2018</td>\n",
       "      <td>September</td>\n",
       "      <td>3</td>\n",
       "      <td>3</td>\n",
       "      <td>6</td>\n",
       "      <td>606</td>\n",
       "      <td>60.0</td>\n",
       "      <td>0</td>\n",
       "      <td>0</td>\n",
       "      <td>Canada</td>\n",
       "      <td>Quebec</td>\n",
       "      <td>Montreal</td>\n",
       "      <td>H2T 9K8</td>\n",
       "      <td>Female</td>\n",
       "      <td>College</td>\n",
       "      <td>73479.0</td>\n",
       "      <td>Divorced</td>\n",
       "      <td>Star</td>\n",
       "      <td>2659.71</td>\n",
       "      <td>Standard</td>\n",
       "      <td>2014</td>\n",
       "      <td>9</td>\n",
       "    </tr>\n",
       "    <tr>\n",
       "      <th>296374</th>\n",
       "      <td>661274</td>\n",
       "      <td>2018</td>\n",
       "      <td>June</td>\n",
       "      <td>0</td>\n",
       "      <td>0</td>\n",
       "      <td>0</td>\n",
       "      <td>0</td>\n",
       "      <td>0.0</td>\n",
       "      <td>0</td>\n",
       "      <td>0</td>\n",
       "      <td>Canada</td>\n",
       "      <td>British Columbia</td>\n",
       "      <td>Vancouver</td>\n",
       "      <td>V5R 1W3</td>\n",
       "      <td>Female</td>\n",
       "      <td>Bachelor</td>\n",
       "      <td>90587.0</td>\n",
       "      <td>Married</td>\n",
       "      <td>Aurora</td>\n",
       "      <td>5408.91</td>\n",
       "      <td>Standard</td>\n",
       "      <td>2014</td>\n",
       "      <td>1</td>\n",
       "    </tr>\n",
       "  </tbody>\n",
       "</table>\n",
       "</div>"
      ],
      "text/plain": [
       "        Loyalty_Number  Year      Month  Flights_Booked  \\\n",
       "208247          446662  2018    January               0   \n",
       "151320          106046  2017   November              10   \n",
       "21486           352092  2017   February               1   \n",
       "351803          923761  2018  September               3   \n",
       "296374          661274  2018       June               0   \n",
       "\n",
       "        Flights_with_Companions  Total_Flights  Distance  Points_Accumulated  \\\n",
       "208247                        0              0         0                 0.0   \n",
       "151320                        3             13      2145               214.0   \n",
       "21486                         1              2      2706               270.0   \n",
       "351803                        3              6       606                60.0   \n",
       "296374                        0              0         0                 0.0   \n",
       "\n",
       "        Points_Redeemed  Dollar_Cost_Points_Redeemed Country  \\\n",
       "208247                0                            0  Canada   \n",
       "151320              327                           27  Canada   \n",
       "21486                 0                            0  Canada   \n",
       "351803                0                            0  Canada   \n",
       "296374                0                            0  Canada   \n",
       "\n",
       "                Province       City Postal_Code  Gender Education   Salary  \\\n",
       "208247  British Columbia   Victoria     V10 6T5  Female   College  73479.0   \n",
       "151320            Quebec   Montreal     H2T 9K8    Male  Bachelor  16628.0   \n",
       "21486             Quebec   Montreal     H4G 3T4    Male  Bachelor  94459.0   \n",
       "351803            Quebec   Montreal     H2T 9K8  Female   College  73479.0   \n",
       "296374  British Columbia  Vancouver     V5R 1W3  Female  Bachelor  90587.0   \n",
       "\n",
       "       Marital_Status Loyalty_Card      CLV Enrollment_Type  Enrollment_Year  \\\n",
       "208247        Married         Nova  7046.48        Standard             2018   \n",
       "151320         Single         Star  2658.22  2018 Promotion             2018   \n",
       "21486         Married       Aurora  8096.31        Standard             2017   \n",
       "351803       Divorced         Star  2659.71        Standard             2014   \n",
       "296374        Married       Aurora  5408.91        Standard             2014   \n",
       "\n",
       "        Enrollment_Month  \n",
       "208247                11  \n",
       "151320                 4  \n",
       "21486                  5  \n",
       "351803                 9  \n",
       "296374                 1  "
      ]
     },
     "execution_count": 2,
     "metadata": {},
     "output_type": "execute_result"
    }
   ],
   "source": [
    "df = pd.read_csv('DF_DATA#3.csv')\n",
    "df.sample(5)"
   ]
  },
  {
   "cell_type": "markdown",
   "metadata": {},
   "source": [
    "### 1. Preparación de Datos: Filtra el conjunto de datos para incluir únicamente las columnas relevantes: `'Flights Booked' y 'Education'`."
   ]
  },
  {
   "cell_type": "code",
   "execution_count": 6,
   "metadata": {},
   "outputs": [
    {
     "data": {
      "text/html": [
       "<div>\n",
       "<style scoped>\n",
       "    .dataframe tbody tr th:only-of-type {\n",
       "        vertical-align: middle;\n",
       "    }\n",
       "\n",
       "    .dataframe tbody tr th {\n",
       "        vertical-align: top;\n",
       "    }\n",
       "\n",
       "    .dataframe thead th {\n",
       "        text-align: right;\n",
       "    }\n",
       "</style>\n",
       "<table border=\"1\" class=\"dataframe\">\n",
       "  <thead>\n",
       "    <tr style=\"text-align: right;\">\n",
       "      <th></th>\n",
       "      <th>Education</th>\n",
       "      <th>Flights_Booked</th>\n",
       "    </tr>\n",
       "  </thead>\n",
       "  <tbody>\n",
       "    <tr>\n",
       "      <th>0</th>\n",
       "      <td>Bachelor</td>\n",
       "      <td>3</td>\n",
       "    </tr>\n",
       "    <tr>\n",
       "      <th>1</th>\n",
       "      <td>College</td>\n",
       "      <td>10</td>\n",
       "    </tr>\n",
       "    <tr>\n",
       "      <th>2</th>\n",
       "      <td>College</td>\n",
       "      <td>6</td>\n",
       "    </tr>\n",
       "    <tr>\n",
       "      <th>3</th>\n",
       "      <td>Bachelor</td>\n",
       "      <td>0</td>\n",
       "    </tr>\n",
       "    <tr>\n",
       "      <th>4</th>\n",
       "      <td>Bachelor</td>\n",
       "      <td>0</td>\n",
       "    </tr>\n",
       "    <tr>\n",
       "      <th>...</th>\n",
       "      <td>...</td>\n",
       "      <td>...</td>\n",
       "    </tr>\n",
       "    <tr>\n",
       "      <th>403755</th>\n",
       "      <td>College</td>\n",
       "      <td>0</td>\n",
       "    </tr>\n",
       "    <tr>\n",
       "      <th>403756</th>\n",
       "      <td>Doctor</td>\n",
       "      <td>0</td>\n",
       "    </tr>\n",
       "    <tr>\n",
       "      <th>403757</th>\n",
       "      <td>Bachelor</td>\n",
       "      <td>3</td>\n",
       "    </tr>\n",
       "    <tr>\n",
       "      <th>403758</th>\n",
       "      <td>College</td>\n",
       "      <td>0</td>\n",
       "    </tr>\n",
       "    <tr>\n",
       "      <th>403759</th>\n",
       "      <td>Bachelor</td>\n",
       "      <td>0</td>\n",
       "    </tr>\n",
       "  </tbody>\n",
       "</table>\n",
       "<p>403760 rows × 2 columns</p>\n",
       "</div>"
      ],
      "text/plain": [
       "       Education  Flights_Booked\n",
       "0       Bachelor               3\n",
       "1        College              10\n",
       "2        College               6\n",
       "3       Bachelor               0\n",
       "4       Bachelor               0\n",
       "...          ...             ...\n",
       "403755   College               0\n",
       "403756    Doctor               0\n",
       "403757  Bachelor               3\n",
       "403758   College               0\n",
       "403759  Bachelor               0\n",
       "\n",
       "[403760 rows x 2 columns]"
      ]
     },
     "execution_count": 6,
     "metadata": {},
     "output_type": "execute_result"
    }
   ],
   "source": [
    "level_education_fly = df[['Education', 'Flights_Booked']]\n",
    "level_education_fly"
   ]
  },
  {
   "cell_type": "code",
   "execution_count": 7,
   "metadata": {},
   "outputs": [
    {
     "data": {
      "text/plain": [
       "array(['Bachelor', 'College', 'Master', 'High School or Below', 'Doctor'],\n",
       "      dtype=object)"
      ]
     },
     "execution_count": 7,
     "metadata": {},
     "output_type": "execute_result"
    }
   ],
   "source": [
    "level_education_fly['Education'].unique()"
   ]
  },
  {
   "cell_type": "code",
   "execution_count": 8,
   "metadata": {},
   "outputs": [
    {
     "data": {
      "text/plain": [
       "<bound method Series.reset_index of Education\n",
       "Bachelor                252567\n",
       "College                 102260\n",
       "Doctor                   17731\n",
       "High School or Below     18915\n",
       "Master                   12287\n",
       "Name: Flights_Booked, dtype: int64>"
      ]
     },
     "execution_count": 8,
     "metadata": {},
     "output_type": "execute_result"
    }
   ],
   "source": [
    "# Agrupar los datos por nivel educativo y calcular estadísticas descriptivas\n",
    "group_edu = level_education_fly.groupby('Education')['Flights_Booked'].count().reset_index\n",
    "group_edu"
   ]
  },
  {
   "cell_type": "code",
   "execution_count": 7,
   "metadata": {},
   "outputs": [
    {
     "data": {
      "text/plain": [
       "<bound method Series.reset_index of Education\n",
       "Bachelor                1.0\n",
       "College                 1.0\n",
       "Doctor                  1.0\n",
       "High School or Below    1.0\n",
       "Master                  1.0\n",
       "Name: Flights_Booked, dtype: float64>"
      ]
     },
     "execution_count": 7,
     "metadata": {},
     "output_type": "execute_result"
    }
   ],
   "source": [
    "# Agrupar los datos por nivel educativo y calcular estadísticas descriptivas\n",
    "group_edu_mediana = level_education_fly.groupby('Education')['Flights_Booked'].median().reset_index\n",
    "group_edu_mediana"
   ]
  },
  {
   "cell_type": "markdown",
   "metadata": {},
   "source": [
    "### 2. Análisis Descriptivo: Agrupa los datos por nivel educativo y calcula estadísticas descriptivas básicas (como el promedio, la desviación estandar, los percentiles) del número de vuelos reservados para cada grupo."
   ]
  },
  {
   "cell_type": "code",
   "execution_count": 9,
   "metadata": {},
   "outputs": [
    {
     "data": {
      "text/html": [
       "<div>\n",
       "<style scoped>\n",
       "    .dataframe tbody tr th:only-of-type {\n",
       "        vertical-align: middle;\n",
       "    }\n",
       "\n",
       "    .dataframe tbody tr th {\n",
       "        vertical-align: top;\n",
       "    }\n",
       "\n",
       "    .dataframe thead th {\n",
       "        text-align: right;\n",
       "    }\n",
       "</style>\n",
       "<table border=\"1\" class=\"dataframe\">\n",
       "  <thead>\n",
       "    <tr style=\"text-align: right;\">\n",
       "      <th></th>\n",
       "      <th>count</th>\n",
       "      <th>mean</th>\n",
       "      <th>std</th>\n",
       "      <th>min</th>\n",
       "      <th>25%</th>\n",
       "      <th>50%</th>\n",
       "      <th>75%</th>\n",
       "      <th>max</th>\n",
       "    </tr>\n",
       "    <tr>\n",
       "      <th>Education</th>\n",
       "      <th></th>\n",
       "      <th></th>\n",
       "      <th></th>\n",
       "      <th></th>\n",
       "      <th></th>\n",
       "      <th></th>\n",
       "      <th></th>\n",
       "      <th></th>\n",
       "    </tr>\n",
       "  </thead>\n",
       "  <tbody>\n",
       "    <tr>\n",
       "      <th>Bachelor</th>\n",
       "      <td>252567.0</td>\n",
       "      <td>4.110288</td>\n",
       "      <td>5.221671</td>\n",
       "      <td>0.0</td>\n",
       "      <td>0.0</td>\n",
       "      <td>1.0</td>\n",
       "      <td>8.0</td>\n",
       "      <td>21.0</td>\n",
       "    </tr>\n",
       "    <tr>\n",
       "      <th>College</th>\n",
       "      <td>102260.0</td>\n",
       "      <td>4.169744</td>\n",
       "      <td>5.246040</td>\n",
       "      <td>0.0</td>\n",
       "      <td>0.0</td>\n",
       "      <td>1.0</td>\n",
       "      <td>8.0</td>\n",
       "      <td>21.0</td>\n",
       "    </tr>\n",
       "    <tr>\n",
       "      <th>Doctor</th>\n",
       "      <td>17731.0</td>\n",
       "      <td>4.175512</td>\n",
       "      <td>5.256971</td>\n",
       "      <td>0.0</td>\n",
       "      <td>0.0</td>\n",
       "      <td>1.0</td>\n",
       "      <td>8.0</td>\n",
       "      <td>21.0</td>\n",
       "    </tr>\n",
       "    <tr>\n",
       "      <th>High School or Below</th>\n",
       "      <td>18915.0</td>\n",
       "      <td>4.176209</td>\n",
       "      <td>5.239267</td>\n",
       "      <td>0.0</td>\n",
       "      <td>0.0</td>\n",
       "      <td>1.0</td>\n",
       "      <td>8.0</td>\n",
       "      <td>21.0</td>\n",
       "    </tr>\n",
       "    <tr>\n",
       "      <th>Master</th>\n",
       "      <td>12287.0</td>\n",
       "      <td>4.200700</td>\n",
       "      <td>5.213956</td>\n",
       "      <td>0.0</td>\n",
       "      <td>0.0</td>\n",
       "      <td>1.0</td>\n",
       "      <td>8.0</td>\n",
       "      <td>21.0</td>\n",
       "    </tr>\n",
       "  </tbody>\n",
       "</table>\n",
       "</div>"
      ],
      "text/plain": [
       "                         count      mean       std  min  25%  50%  75%   max\n",
       "Education                                                                   \n",
       "Bachelor              252567.0  4.110288  5.221671  0.0  0.0  1.0  8.0  21.0\n",
       "College               102260.0  4.169744  5.246040  0.0  0.0  1.0  8.0  21.0\n",
       "Doctor                 17731.0  4.175512  5.256971  0.0  0.0  1.0  8.0  21.0\n",
       "High School or Below   18915.0  4.176209  5.239267  0.0  0.0  1.0  8.0  21.0\n",
       "Master                 12287.0  4.200700  5.213956  0.0  0.0  1.0  8.0  21.0"
      ]
     },
     "execution_count": 9,
     "metadata": {},
     "output_type": "execute_result"
    }
   ],
   "source": [
    "# Agrupar los datos por nivel educativo y calcular estadísticas descriptivas\n",
    "descriptive_stats = level_education_fly.groupby('Education')['Flights_Booked'].describe()\n",
    "descriptive_stats"
   ]
  },
  {
   "cell_type": "markdown",
   "metadata": {},
   "source": [
    "> 📌 Revisando los datos que nos aporta la tabla, se puede ver que todos los niveles educativos tienen una media de 4.1/4.2 y en general se parecen los valores restantes.\n",
    "Veamoslo ahora en una gráfica para tener un contexto visual"
   ]
  },
  {
   "cell_type": "code",
   "execution_count": 8,
   "metadata": {},
   "outputs": [
    {
     "data": {
      "image/png": "[encoded data removed]",
      "text/plain": [
       "<Figure size 1000x600 with 1 Axes>"
      ]
     },
     "metadata": {},
     "output_type": "display_data"
    }
   ],
   "source": [
    "# Establecer el tamaño de la gráfica\n",
    "plt.figure(figsize=(10, 6))\n",
    "\n",
    "# Crear el violin plot\n",
    "sns.boxplot(data=level_education_fly, x=\"Education\", y=\"Flights_Booked\", palette=\"pastel\")\n",
    "\n",
    "# Ajustar título y etiquetas\n",
    "plt.title('Flights Booked according to Educational Level')\n",
    "plt.xlabel('Educational Level')\n",
    "plt.ylabel('Flights Booked')\n",
    "plt.xticks(rotation=45)\n",
    "plt.grid(True)\n",
    "\n",
    "# quitamos la linea de arriba y de la derecha\n",
    "plt.gca().spines['right'].set_visible(False) # quitamos la línea de la derecha\n",
    "plt.gca().spines[\"top\"].set_visible(False) # quitamos la línea de arriba;\n",
    "# Ajustar el diseño para que las etiquetas no se solapen\n",
    "plt.tight_layout()\n",
    "# Mostrar la gráfica\n",
    "plt.show()\n"
   ]
  },
  {
   "cell_type": "markdown",
   "metadata": {},
   "source": [
    "### 3. Prueba Estadística: Realiza una prueba de hipótesis para determinar si existe una diferencia significativa en el número de vuelos reservados entre los diferentes niveles educativos.\n",
    " \n",
    "- H0 (Hipótesis Nula): Afirma que no hay efecto, no hay diferencia o no hay relación significativa en la población subyacente. Es la afirmación inicial que se somete a prueba y que se considera verdadera hasta que haya evidencia suficiente para rechazarla.\n",
    "\n",
    "- H1 (Hipótesis Alternativa): Afirma que existe un efecto, una diferencia o una relación significativa en la población subyacente. Es la afirmación que estás tratando de demostrar con los datos de la muestra.\n",
    "\n",
    "        Hipótesis: \n",
    "\n",
    "    - `HO` --> No existe una diferencia significativa en el número de vuelos reservados entre los diferentes niveles educativos. \n",
    "    - `H1` --> Existe una diferencia significativa en el número de vuelos reservados entre los diferentes niveles educativos."
   ]
  },
  {
   "cell_type": "code",
   "execution_count": 15,
   "metadata": {},
   "outputs": [
    {
     "name": "stdout",
     "output_type": "stream",
     "text": [
      "Evaluando normalidad en el nivel educativo:--> Bachelor\n",
      "Con relación a Flights_Booked, los datos NO siguen una distribución normal. (p-value = 0.00000)\n",
      "Evaluando normalidad en el nivel educativo:--> College\n",
      "Con relación a Flights_Booked, los datos NO siguen una distribución normal. (p-value = 0.00000)\n",
      "Evaluando normalidad en el nivel educativo:--> Master\n",
      "Con relación a Flights_Booked, los datos NO siguen una distribución normal. (p-value = 0.00000)\n",
      "Evaluando normalidad en el nivel educativo:--> High School or Below\n",
      "Con relación a Flights_Booked, los datos NO siguen una distribución normal. (p-value = 0.00000)\n",
      "Evaluando normalidad en el nivel educativo:--> Doctor\n",
      "Con relación a Flights_Booked, los datos NO siguen una distribución normal. (p-value = 0.00000)\n"
     ]
    }
   ],
   "source": [
    "# Función para evaluar la normalidad de los datos\n",
    "def normalidad(dataframe, columna):\n",
    "    statistic, p_value = stats.shapiro(dataframe[columna])\n",
    "    if p_value > 0.05:\n",
    "        print(f\"Con relación a {columna}, los datos SI siguen una distribución normal. (p-value = {p_value:.5f})\")\n",
    "    else:\n",
    "        print(f\"Con relación a {columna}, los datos NO siguen una distribución normal. (p-value = {p_value:.5f})\")\n",
    "\n",
    "# Evaluar la normalidad para cada nivel de educación\n",
    "for education_level in df['Education'].unique():\n",
    "    print(f\"Evaluando normalidad en el nivel educativo:--> {education_level}\")\n",
    "    nivel_educativo = df[df['Education'] == education_level]\n",
    "    normalidad(nivel_educativo, 'Flights_Booked')\n"
   ]
  },
  {
   "cell_type": "code",
   "execution_count": 13,
   "metadata": {},
   "outputs": [
    {
     "data": {
      "image/png": "[encoded data removed]",
      "text/plain": [
       "<Figure size 1200x800 with 5 Axes>"
      ]
     },
     "metadata": {},
     "output_type": "display_data"
    }
   ],
   "source": [
    "import matplotlib.pyplot as plt\n",
    "import seaborn as sns\n",
    "\n",
    "# Establecer el tamaño de la figura\n",
    "plt.figure(figsize=(12, 8))\n",
    "\n",
    "# Iterar sobre cada nivel educativo único\n",
    "for i, education_level in enumerate(df['Education'].unique(), start=1):\n",
    "    # Filtrar los datos por nivel educativo\n",
    "    data_subset = df[df['Education'] == education_level]['Flights_Booked']\n",
    "    \n",
    "    # Crear un subplot para cada nivel educativo\n",
    "    plt.subplot(2, 3, i)\n",
    "    \n",
    "    # Crear el histograma o gráfico de distribución\n",
    "    sns.histplot(data=data_subset, kde=True, color='cadetblue')\n",
    "    \n",
    "    # Configurar título y etiquetas\n",
    "    plt.title(f'Education Level: {education_level}')\n",
    "    plt.xlabel('Flights Booked')\n",
    "    plt.ylabel('Frequency')\n",
    "\n",
    "    \n",
    "    # Ajustar el diseño\n",
    "    plt.tight_layout()\n",
    "\n",
    "# Mostrar los gráficos\n",
    "plt.show()\n"
   ]
  },
  {
   "cell_type": "markdown",
   "metadata": {},
   "source": [
    "> 🎯 En base al análisis de normalidad y distribución de datos por cada nivel educativo, se observa que no todos cumplen con los criterios de una distribución normal. Este hallazgo sugiere que las características de los datos varían significativamente entre las diferentes categorías educativas. En consecuencia, se rechaza la hipótesis nula de que los datos siguen una distribución normal estándar. Para una comprensión más detallada de cómo estos datos se agrupan o dispersan visualmente, sería recomendable explorar gráficos que permitan una visualización más intuitiva de estas diferencias"
   ]
  },
  {
   "cell_type": "code",
   "execution_count": 15,
   "metadata": {},
   "outputs": [
    {
     "name": "stdout",
     "output_type": "stream",
     "text": [
      "Las varianzas de Bachelor NO son homogéneas entre grupos. p-value: 0.0150.\n",
      "Las varianzas de College NO son homogéneas entre grupos. p-value: 0.0150.\n",
      "Las varianzas de Master NO son homogéneas entre grupos. p-value: 0.0150.\n",
      "Las varianzas de High School or Below NO son homogéneas entre grupos. p-value: 0.0150.\n",
      "Las varianzas de Doctor NO son homogéneas entre grupos. p-value: 0.0150.\n"
     ]
    }
   ],
   "source": [
    "# Definición de la función de homogeneidad\n",
    "def homogeneidad(dataframe, columna, columna_metrica):\n",
    "    # Crear tantos conjuntos de datos como categorías tenemos en 'columna'\n",
    "    valores_evaluar = []\n",
    "    categorias = dataframe[columna].unique()\n",
    "    \n",
    "    for valor in categorias:\n",
    "        valores_evaluar.append(dataframe[dataframe[columna] == valor][columna_metrica])\n",
    "\n",
    "    # Realizar la prueba de Levene\n",
    "    statistic, p_value = stats.levene(*valores_evaluar)\n",
    "    for valor, datos in zip(categorias, valores_evaluar):\n",
    "        median_value = datos.median()\n",
    "        if p_value > 0.05:\n",
    "            print(f\"Las varianzas de {valor} SI SON homogéneas entre grupos. p-value: {p_value:.4f}.\")\n",
    "        else:\n",
    "            print(f\"Las varianzas de {valor} NO son homogéneas entre grupos. p-value: {p_value:.4f}.\")\n",
    "\n",
    "# Evaluar la homogeneidad para 'Education' y 'Flights_Booked'\n",
    "homogeneidad(df, 'Education', 'Flights_Booked')\n"
   ]
  },
  {
   "cell_type": "code",
   "execution_count": 17,
   "metadata": {},
   "outputs": [
    {
     "name": "stdout",
     "output_type": "stream",
     "text": [
      "Estadístico de Kruskal-Wallis: 17.53262\n",
      "Valor p: 0.00152\n",
      "Existe una diferencia significativa en el número de vuelos reservados entre los diferentes niveles educativos.\n"
     ]
    }
   ],
   "source": [
    "# Realizar la prueba de Kruskal-Wallis\n",
    "groups = [df[df['Education'] == education_level]['Flights_Booked'] for education_level in df['Education'].unique()]\n",
    "stat, p_value = stats.kruskal(*groups)\n",
    "\n",
    "print(f'Estadístico de Kruskal-Wallis: {stat:.5f}')\n",
    "print(f'Valor p: {p_value:.5f}')\n",
    "\n",
    "if p_value < 0.05:\n",
    "    print(\"Existe una diferencia significativa en el número de vuelos reservados entre los diferentes niveles educativos.\")\n",
    "else:\n",
    "    print(\"No existe una diferencia significativa en el número de vuelos reservados entre los diferentes niveles educativos.\")\n"
   ]
  },
  {
   "cell_type": "markdown",
   "metadata": {},
   "source": [
    "### 📊 Interpretación de los resultados 📊\n",
    "\n",
    "**Conclusión** --> Al analizar los datos sobre el número de vuelos reservados según los niveles educativos de los pasajeros, hemos llegado a varias conclusiones significativas: \n",
    "\n",
    "* Análisis de Kruskal-Wallis\n",
    "El estadístico de Kruskal-Wallis calculado es 17.53262, con un valor p de 0.00152. Este resultado indica que existe una diferencia significativa en el número de vuelos reservados entre los diferentes niveles educativos. Esto implica que no todos los grupos tienen la misma mediana de vuelos reservados y sugiere que los niveles educativos influyen en la cantidad de vuelos que reservan los pasajeros.\n",
    "\n",
    "* Prueba de homogeneidad de varianza\n",
    "Al evaluar la homogeneidad de varianza entre los grupos de niveles educativos, encontramos que las varianzas no son homogéneas entre los grupos. El valor p obtenido fue 0.0150, lo cual está por debajo del umbral comúnmente aceptado de 0.05. Esto significa que las diferencias en las varianzas entre los grupos son estadísticamente significativas.\n",
    "\n",
    "* Prueba de normalidad\n",
    "Además, al evaluar la normalidad de los datos de vuelos reservados para cada nivel educativo, encontramos que los datos no siguen una distribución normal. El valor p obtenido fue extremadamente bajo (p-value = 0.00000), lo cual indica que no podemos asumir normalidad en la distribución de vuelos reservados en ningún nivel educativo.\n",
    "\n",
    "Entonces podemos concluir que:\n",
    "-  Existe una clara diferencia en el número de vuelos reservados según el nivel educativo de los pasajeros.\n",
    "-  La evidencia estadística respalda el rechazo de la hipótesis nula de que no hay diferencias entre los grupos.\n",
    "- La falta de normalidad en los datos y las diferencias significativas en las varianzas entre grupos. \n",
    "\n",
    "Aun así, estaría bien considerar otras variables para tener más detalles importantes. "
   ]
  }
 ],
 "metadata": {
  "kernelspec": {
   "display_name": "Python 3",
   "language": "python",
   "name": "python3"
  },
  "language_info": {
   "codemirror_mode": {
    "name": "ipython",
    "version": 3
   },
   "file_extension": ".py",
   "mimetype": "text/x-python",
   "name": "python",
   "nbconvert_exporter": "python",
   "pygments_lexer": "ipython3",
   "version": "3.11.5"
  }
 },
 "nbformat": 4,
 "nbformat_minor": 2
}
